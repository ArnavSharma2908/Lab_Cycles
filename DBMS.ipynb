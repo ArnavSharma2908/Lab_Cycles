{
 "cells": [
  {
   "cell_type": "markdown",
   "id": "a891ea94",
   "metadata": {},
   "source": [
    "# DBMS Lab Programs\n",
    "Written by **Arnav Sharma@NIE**"
   ]
  },
  {
   "cell_type": "markdown",
   "id": "b48c7953",
   "metadata": {},
   "source": [
    "### Experiment 1\n"
   ]
  },
  {
   "cell_type": "markdown",
   "id": "f8ab7767",
   "metadata": {},
   "source": [
    "Create a table called Employee & execute the following. \n",
    "Employee (EMPNO, ENAME, JOB, MANAGER_NO, SAL, COMMISSION) \n",
    "1. Create a user and grant all permissions to the user. \n",
    "2. Insert any three records in the employee table containing attributes. EMPNO, \n",
    "ENAME JOB, MANAGER_NO, SAL, COMMISSION and use rollback. Check \n",
    "the result. \n",
    "3. Add primary key constraint and not null constraint to the employee table. \n",
    "4. Insert NULL values to the employee table and verify the result. "
   ]
  },
  {
   "cell_type": "code",
   "execution_count": null,
   "id": "58d6ed8d",
   "metadata": {
    "vscode": {
     "languageId": "sql"
    }
   },
   "outputs": [],
   "source": [
    "-- 1. Create user and grant privileges\n",
    "CREATE USER emp_user IDENTIFIED BY emp_pass;\n",
    "GRANT ALL PRIVILEGES TO emp_user;\n",
    "\n",
    "-- Connect as the new user\n",
    "CONNECT emp_user/emp_pass;\n",
    "\n",
    "-- Create Employee table\n",
    "CREATE TABLE Employee (\n",
    "  EMPNO      NUMBER,        -- employee number\n",
    "  ENAME      VARCHAR2(50),  -- name\n",
    "  JOB        VARCHAR2(30),  -- job title\n",
    "  MANAGER_NO NUMBER,        -- manager’s EMPNO\n",
    "  SAL        NUMBER(10,2),  -- salary\n",
    "  COMMISSION NUMBER(10,2)   -- commission\n",
    ");\n",
    "\n",
    "-- Insert three rows, then rollback\n",
    "SAVEPOINT before_inserts;\n",
    "INSERT INTO Employee VALUES (101,'Alice','Developer',100,60000,1000);\n",
    "INSERT INTO Employee VALUES (102,'Bob','Analyst',100,55000,500);\n",
    "INSERT INTO Employee VALUES (103,'Charlie','Manager',NULL,75000,NULL);\n",
    "SELECT * FROM Employee;  -- shows 3 rows\n",
    "ROLLBACK TO before_inserts;\n",
    "SELECT * FROM Employee;  -- shows 0 rows\n",
    "\n",
    "-- Add NOT NULL and PK constraints\n",
    "ALTER TABLE Employee MODIFY (EMPNO NOT NULL);\n",
    "ALTER TABLE Employee ADD CONSTRAINT pk_emp PRIMARY KEY (EMPNO);\n",
    "ALTER TABLE Employee MODIFY (ENAME NOT NULL, JOB NOT NULL, SAL NOT NULL);\n",
    "\n",
    "-- Attempt to insert NULLs (will fail)\n",
    "BEGIN\n",
    "  INSERT INTO Employee VALUES (NULL,NULL,NULL,NULL,NULL,NULL);\n",
    "  COMMIT;\n",
    "EXCEPTION\n",
    "  WHEN OTHERS THEN\n",
    "    DBMS_OUTPUT.PUT_LINE('Error: '||SQLERRM);\n",
    "    ROLLBACK;\n",
    "END;\n",
    "/\n"
   ]
  },
  {
   "cell_type": "markdown",
   "id": "cbf00b78",
   "metadata": {},
   "source": [
    "### Experiment 2"
   ]
  },
  {
   "cell_type": "markdown",
   "id": "ea41c872",
   "metadata": {},
   "source": [
    "Create a table called Employee that contains attributes EMPNO,ENAME,JOB, \n",
    "MGR,SAL and execute the following. \n",
    "1. Add a column commission with domain to the Employee table. \n",
    "2. Insert any five records into the table. \n",
    "3. Update the column details of job. \n",
    "4. Rename the column of Employ table using alter command. \n",
    "5. Delete the employee whose EMPNO is 105."
   ]
  },
  {
   "cell_type": "code",
   "execution_count": null,
   "id": "1c55211c",
   "metadata": {
    "vscode": {
     "languageId": "sql"
    }
   },
   "outputs": [],
   "source": [
    "-- Create Employee table\n",
    "CREATE TABLE Employee (\n",
    "  EMPNO NUMBER,       -- employee number\n",
    "  ENAME VARCHAR2(50), -- employee name\n",
    "  JOB   VARCHAR2(30), -- job title\n",
    "  MGR   NUMBER,       -- manager’s EMPNO\n",
    "  SAL   NUMBER(10,2)  -- salary\n",
    ");\n",
    "\n",
    "-- 1. Add commission column\n",
    "ALTER TABLE Employee\n",
    "  ADD commission NUMBER(10,2);  -- commission amount\n",
    "\n",
    "-- 2. Insert five records\n",
    "INSERT INTO Employee VALUES (101, 'Alice',   'Developer', 100, 60000, 1000);\n",
    "INSERT INTO Employee VALUES (102, 'Bob',     'Analyst',   100, 55000,  500);\n",
    "INSERT INTO Employee VALUES (103, 'Carol',   'Developer', 101, 62000, 1200);\n",
    "INSERT INTO Employee VALUES (104, 'Dave',    'Clerk',     102, 40000,   200);\n",
    "INSERT INTO Employee VALUES (105, 'Eve',     'Analyst',   102, 58000,  750);\n",
    "\n",
    "-- 3. Update job details (promote developers)\n",
    "UPDATE Employee\n",
    "  SET JOB = 'Senior Developer'\n",
    "  WHERE JOB = 'Developer';\n",
    "\n",
    "-- 4. Rename MGR column to MANAGER_ID\n",
    "ALTER TABLE Employee\n",
    "  RENAME COLUMN MGR TO MANAGER_ID;\n",
    "\n",
    "-- 5. Delete employee with EMPNO = 105\n",
    "DELETE FROM Employee\n",
    "  WHERE EMPNO = 105;\n"
   ]
  },
  {
   "cell_type": "markdown",
   "id": "244bd459",
   "metadata": {},
   "source": [
    "### Experiment 3"
   ]
  },
  {
   "cell_type": "markdown",
   "id": "021d3d42",
   "metadata": {},
   "source": [
    "Queries using aggregate functions ( COUNT, AVG, MIN, MAX, SUM), Group by, \n",
    "Order by. \n",
    "Employee(E_id, E_name, Age, Salary) \n",
    "1. Create Employee table containing all Records E_id, E_name, Age, Salary. \n",
    "2. Count number of employee names from employee table. \n",
    "3. Find the Maximum age from the employee table. \n",
    "4. Find the Minimum age from the employee table. \n",
    "5. Find salaries of employees in Ascending Order. \n",
    "6. Find grouped salaries of employees."
   ]
  },
  {
   "cell_type": "code",
   "execution_count": null,
   "id": "fb3c284c",
   "metadata": {
    "vscode": {
     "languageId": "sql"
    }
   },
   "outputs": [],
   "source": [
    "-- 1. Create Employee table\n",
    "CREATE TABLE Employee (\n",
    "  E_id    NUMBER,        -- employee ID\n",
    "  E_name  VARCHAR2(50),  -- employee name\n",
    "  Age     NUMBER,        -- employee age\n",
    "  Salary  NUMBER(10,2)   -- employee salary\n",
    ");\n",
    "\n",
    "-- 2. Count number of employee names\n",
    "SELECT COUNT(E_name) AS name_count\n",
    "  FROM Employee;\n",
    "\n",
    "-- 3. Find the maximum age\n",
    "SELECT MAX(Age) AS max_age\n",
    "  FROM Employee;\n",
    "\n",
    "-- 4. Find the minimum age\n",
    "SELECT MIN(Age) AS min_age\n",
    "  FROM Employee;\n",
    "\n",
    "-- 5. List salaries in ascending order\n",
    "SELECT Salary\n",
    "  FROM Employee\n",
    "  ORDER BY Salary ASC;\n",
    "\n",
    "-- 6. Group employees by salary and count per salary\n",
    "SELECT Salary,\n",
    "       COUNT(*) AS employee_count\n",
    "  FROM Employee\n",
    " GROUP BY Salary;\n"
   ]
  },
  {
   "cell_type": "markdown",
   "id": "5913259e",
   "metadata": {},
   "source": [
    "### Experiment 4"
   ]
  },
  {
   "cell_type": "markdown",
   "id": "8bfbfecf",
   "metadata": {
    "vscode": {
     "languageId": "sql"
    }
   },
   "source": [
    "Create a row level trigger for the customers table that would fire for INSERT or UPDATE or DELETE operations performed on the CUSTOMERS table. This trigger will display the salary difference between the old & new Salary. CUSTOMERS (ID, NAME, AGE, ADDRESS, SALARY)"
   ]
  },
  {
   "cell_type": "markdown",
   "id": "aebefa69",
   "metadata": {},
   "source": [
    "### Experiment 5"
   ]
  },
  {
   "cell_type": "markdown",
   "id": "8e234ffc",
   "metadata": {},
   "source": [
    "Create cursor for Employee table and extract the values from the table. Declare the variables, Open the cursor, and extract the values from the cursor. Close the cursor. Employee (E_id, E_name, Age, Salary)"
   ]
  },
  {
   "cell_type": "code",
   "execution_count": null,
   "id": "e11286cf",
   "metadata": {
    "vscode": {
     "languageId": "sql"
    }
   },
   "outputs": [],
   "source": [
    "CREATE TABLE IF NOT EXISTS Employee (\n",
    "  E_id    INT PRIMARY KEY,\n",
    "  E_name  VARCHAR(50),\n",
    "  Age     INT,\n",
    "  Salary  DECIMAL(10,2)\n",
    ");\n",
    "\n",
    "INSERT INTO Employee VALUES\n",
    "  (1, 'Alice',   30, 60000.00),\n",
    "  (2, 'Bob',     25, 50000.00),\n",
    "  (3, 'Charlie', 28, 55000.00);\n",
    "\n",
    "\n",
    "DELIMITER $$\n",
    "\n",
    "CREATE PROCEDURE print_employee_cursor()\n",
    "BEGIN\n",
    "  DECLARE v_id INT;\n",
    "  DECLARE v_name VARCHAR(50);\n",
    "  DECLARE v_age INT;\n",
    "  DECLARE v_sal DECIMAL(10,2);\n",
    "  DECLARE done INT DEFAULT 0;\n",
    "  \n",
    "  DECLARE emp_cur CURSOR FOR\n",
    "    SELECT E_id, E_name, Age, Salary FROM Employee;\n",
    "  DECLARE CONTINUE HANDLER FOR NOT FOUND SET done = 1;\n",
    "  \n",
    "  OPEN emp_cur;\n",
    "  read_loop: LOOP\n",
    "    FETCH emp_cur INTO v_id, v_name, v_age, v_sal;\n",
    "    IF done THEN\n",
    "      LEAVE read_loop;\n",
    "    END IF;\n",
    "    SELECT CONCAT(\n",
    "      'ID=', v_id,\n",
    "      ' Name=', v_name,\n",
    "      ' Age=', v_age,\n",
    "      ' Salary=', v_sal\n",
    "    ) AS row_data;\n",
    "  END LOOP;\n",
    "  CLOSE emp_cur;\n",
    "END$$\n",
    "\n",
    "DELIMITER ;\n",
    "\n",
    "-- To run:\n",
    "CALL print_employee_cursor();\n"
   ]
  },
  {
   "cell_type": "markdown",
   "id": "18b228eb",
   "metadata": {},
   "source": [
    "### Experiment 6"
   ]
  },
  {
   "cell_type": "markdown",
   "id": "ac3ebd67",
   "metadata": {},
   "source": [
    "Install an Open-Source NoSQL Data base MongoDB & perform basic CRUD (Create, Read, Update & Delete) operations. Execute MongoDB basic Queries using CRUD operations."
   ]
  },
  {
   "cell_type": "code",
   "execution_count": null,
   "id": "a1898b5c",
   "metadata": {
    "vscode": {
     "languageId": "javascript"
    }
   },
   "outputs": [],
   "source": [
    "// Switch to (or create) the database\n",
    "use companyDB\n",
    "\n",
    "// ==== CREATE ====\n",
    "// Insert a single document\n",
    "db.employees.insertOne({\n",
    "  empno: 101,\n",
    "  name: \"Alice\",\n",
    "  job: \"Developer\",\n",
    "  salary: 60000\n",
    "})\n",
    "\n",
    "// Insert multiple documents\n",
    "db.employees.insertMany([\n",
    "  { empno: 102, name: \"Bob\",   job: \"Analyst\",   salary: 55000 },\n",
    "  { empno: 103, name: \"Carol\", job: \"Manager\",   salary: 75000 },\n",
    "  { empno: 104, name: \"Dave\",  job: \"Clerk\",     salary: 40000 }\n",
    "])\n",
    "\n",
    "// ==== READ ====\n",
    "// Find all documents\n",
    "print(\"All employees:\")\n",
    "db.employees.find().pretty()\n",
    "\n",
    "// Find one by empno\n",
    "print(\"Employee 103:\")\n",
    "db.employees.findOne({ empno: 103 })\n",
    "\n",
    "// ==== UPDATE ====\n",
    "// Give Alice a raise and title change\n",
    "db.employees.updateOne(\n",
    "  { empno: 101 },\n",
    "  { $set: { job: \"Senior Developer\", salary: 65000 } }\n",
    ")\n",
    "\n",
    "// Increase salary by 10% for all Analysts\n",
    "db.employees.updateMany(\n",
    "  { job: \"Analyst\" },\n",
    "  { $mul: { salary: 1.10 } }\n",
    ")\n",
    "\n",
    "// Show updates\n",
    "print(\"After updates:\")\n",
    "db.employees.find().pretty()\n",
    "\n",
    "// ==== DELETE ====\n",
    "// Remove Dave\n",
    "db.employees.deleteOne({ empno: 104 })\n",
    "\n",
    "// Remove anyone earning below 50000\n",
    "db.employees.deleteMany({ salary: { $lt: 50000 } })\n",
    "\n",
    "// Final state\n",
    "print(\"After deletes:\")\n",
    "db.employees.find().pretty()\n"
   ]
  }
 ],
 "metadata": {
  "language_info": {
   "name": "python"
  }
 },
 "nbformat": 4,
 "nbformat_minor": 5
}
