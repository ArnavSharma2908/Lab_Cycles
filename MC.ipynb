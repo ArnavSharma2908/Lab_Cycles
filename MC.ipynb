{
 "cells": [
  {
   "cell_type": "markdown",
   "id": "42571ec8",
   "metadata": {},
   "source": [
    "# MC Lab Programs (ALP)\n",
    "Written by **Arnav Sharma@NIE**"
   ]
  },
  {
   "cell_type": "markdown",
   "id": "d84e1991",
   "metadata": {},
   "source": [
    "#### 1. Develop and simulate ARM ALP for Data Transfer and Arithmetic instructions.(ADDS,ADC,SUBS,SBB,RSB)"
   ]
  },
  {
   "cell_type": "code",
   "execution_count": null,
   "id": "73ca07b3",
   "metadata": {
    "vscode": {
     "languageId": "plaintext"
    }
   },
   "outputs": [],
   "source": [
    "        AREA mydata, DATA, READONLY ; Data area\n",
    "        EXPORT __Vectors             ; Export __Vectors\n",
    "__Vectors\n",
    "        DCD 0x20000000             ; Initial Stack Pointer\n",
    "        DCD Reset_Handler          ; Reset Handler address\n",
    "\n",
    "        AREA mycode, CODE, READONLY ; Code area\n",
    "        EXPORT Reset_Handler        ; Export Reset_Handler\n",
    "ENTRY                                ; Entry point\n",
    "\n",
    "Reset_Handler                      ; Reset handler\n",
    "        MOV R0, #0x20                ; R0 = 0x20\n",
    "        MOV R1, #0x40                ; R1 = 0x40\n",
    "        ADDS R2, R1, R0              ; R2 = R1 + R0 (with Carry)\n",
    "        ADC R3, R1, R0               ; R3 = R1 + R0 + Carry\n",
    "        SUBS R4, R1, R0              ; R4 = R1 - R0 (with Borrow/Carry)\n",
    "        RSB R5, R1, R0               ; R5 = R0 - R1\n",
    "        SBC R6, R1, R0               ; R6 = R1 - R0 - (1 - Carry)\n",
    "        NOP                          ; No operation\n",
    "HERE    B HERE                       ; Infinite loop\n",
    "\n",
    "        END                          ; End of file"
   ]
  },
  {
   "cell_type": "markdown",
   "id": "62e1f4b5",
   "metadata": {},
   "source": [
    "OUTPUT:\n",
    "R2 = 0x00000060"
   ]
  },
  {
   "cell_type": "markdown",
   "id": "d1a28817",
   "metadata": {},
   "source": [
    "#### 2. Develop and simulate ARM ALP for Data Transfer and Logical instructions(AND,ORR,EOR,NOT)."
   ]
  },
  {
   "cell_type": "code",
   "execution_count": null,
   "id": "057cefb9",
   "metadata": {
    "vscode": {
     "languageId": "plaintext"
    }
   },
   "outputs": [],
   "source": [
    "        AREA mydata, DATA, READONLY ; Data area\n",
    "        EXPORT __Vectors             ; Export __Vectors\n",
    "__Vectors\n",
    "        DCD 0x20000000             ; Initial SP\n",
    "        DCD Reset_Handler          ; Reset vector\n",
    "\n",
    "        AREA mycode, CODE, READONLY ; Code area\n",
    "        EXPORT Reset_Handler        ; Export Reset_Handler\n",
    "ENTRY                                ; Entry point\n",
    "\n",
    "Reset_Handler                      ; Reset routine\n",
    "        MOV R0, #0x04                ; R0 = 0x04\n",
    "        MOV R1, #0x08                ; R1 = 0x08\n",
    "        AND R2, R1, R0              ; R2 = R1 AND R0\n",
    "        ORR R3, R1, R0              ; R3 = R1 OR R0\n",
    "        EOR R4, R1, R0              ; R4 = R1 XOR R0\n",
    "        BIC R5, R1, R0 ; Optional    ; R5 = R1 AND NOT R0\n",
    "        MVN R6, R1;\n",
    "        NOP                          ; No operation\n",
    "HERE    B HERE                       ; Loop forever\n",
    "\n",
    "        END                          ; End of file"
   ]
  },
  {
   "cell_type": "markdown",
   "id": "6d04428c",
   "metadata": {},
   "source": [
    "OUTPUT:\n",
    "R3 = 0x0000000C"
   ]
  },
  {
   "cell_type": "markdown",
   "id": "c221788f",
   "metadata": {},
   "source": [
    "#### 3. Develop and simulate ARM ALP for Simulate Barrel shifter operations(LSL,LSR,ASR, ROR)."
   ]
  },
  {
   "cell_type": "code",
   "execution_count": null,
   "id": "8c688ca9",
   "metadata": {
    "vscode": {
     "languageId": "plaintext"
    }
   },
   "outputs": [],
   "source": [
    "        AREA mydata, DATA, READONLY ; Data area\n",
    "        EXPORT __Vectors             ; Export __Vectors\n",
    "__Vectors\n",
    "        DCD 0x20000000             ; Initial SP\n",
    "        DCD Reset_Handler          ; Reset vector\n",
    "\n",
    "        AREA mycode, CODE, READONLY ; Code area\n",
    "        EXPORT Reset_Handler        ; Export Reset_Handler\n",
    "ENTRY                                ; Entry point\n",
    "\n",
    "Reset_Handler                      ; Reset routine\n",
    "        MOV R0, #0x80                ; R0 = 0x80\n",
    "        MOV R1, R0, LSL #2           ; R1 = R0 << 2 (Logical Shift Left)\n",
    "        MOV R2, R0, LSR #2           ; R2 = R0 >> 2 (Logical Shift Right)\n",
    "        MOV R3, R0, ASR #2           ; R3 = R0 >> 2 (Arithmetic Shift Right)\n",
    "        MOV R4, R0, ROR #2           ; R4 = R0 Rotate Right by 2\n",
    "        NOP                          ; No operation\n",
    "HERE    B HERE                       ; Loop forever\n",
    "\n",
    "        END                          ; End of file"
   ]
  },
  {
   "cell_type": "markdown",
   "id": "34286075",
   "metadata": {},
   "source": [
    "OUTPUT:\n",
    "R1 = 0x00000200"
   ]
  },
  {
   "cell_type": "markdown",
   "id": "beefb1b4",
   "metadata": {},
   "source": [
    "#### 4. Develop an ALP to multiply 2 16-bit binary numbers and also 32-bit numbers(MUL, UMULL)."
   ]
  },
  {
   "cell_type": "code",
   "execution_count": null,
   "id": "da8fc66f",
   "metadata": {
    "vscode": {
     "languageId": "plaintext"
    }
   },
   "outputs": [],
   "source": [
    "        AREA mydata, DATA, READONLY ; Data area\n",
    "        EXPORT __Vectors             ; Export __Vectors\n",
    "__Vectors\n",
    "        DCD 0x20000000             ; Initial SP\n",
    "        DCD Reset_Handler          ; Reset vector\n",
    "\n",
    "        AREA mycode, CODE, READONLY ; Code area\n",
    "        EXPORT Reset_Handler        ; Export Reset_Handler\n",
    "ENTRY                                ; Entry point\n",
    "\n",
    "Reset_Handler                      ; Reset routine\n",
    "        MOV R0, #0x60                ; R0 = 0x60 (96 decimal)\n",
    "        MOV R1, #0x40                ; R1 = 0x40 (64 decimal)\n",
    "        MUL R2, R1, R0              ; R2 = R1 * R0 (32-bit result)\n",
    "        MOV R3, #0xF0000002          ; R3 = 0xF0000002\n",
    "        MOV R4, #0x00000002          ; R4 = 0x00000002\n",
    "        UMULL R5, R6, R3, R4         ; R5:R6 = R3 * R4 (64-bit result, R6 high, R5 low)\n",
    "        NOP                          ; No operation\n",
    "HERE    B HERE                       ; Loop forever\n",
    "\n",
    "        END                          ; End of file"
   ]
  },
  {
   "cell_type": "markdown",
   "id": "28dac715",
   "metadata": {},
   "source": [
    "OUTPUT:\n",
    "R2 = 0x000000F0"
   ]
  },
  {
   "cell_type": "markdown",
   "id": "34ad6a23",
   "metadata": {},
   "source": [
    "#### 5. Develop an ALP to find the sum of first 10 integers."
   ]
  },
  {
   "cell_type": "code",
   "execution_count": null,
   "id": "dd4b80fa",
   "metadata": {
    "vscode": {
     "languageId": "plaintext"
    }
   },
   "outputs": [],
   "source": [
    "        AREA mydata, DATA, READONLY\n",
    "        EXPORT __Vectors\n",
    "__Vectors\n",
    "        DCD 0x20000000\n",
    "        DCD Reset_Handler\n",
    "\n",
    "        AREA mycode, CODE, READONLY\n",
    "        EXPORT Reset_Handler\n",
    "ENTRY\n",
    "Reset_Handler\n",
    "        MOV R0, #0         ; Initialize sum to 0\n",
    "        MOV R1, #1         ; Initialize counter to 1\n",
    "L       ADD R0, R0, R1     ; Add counter to sum\n",
    "        ADD R1, R1, #1     ; Increment counter\n",
    "        CMP R1, #11        ; Compare counter with 11\n",
    "        BNE L              ; Branch to L if counter is not 11\n",
    "        LDR R2, =sum       ; Load address of sum variable\n",
    "        STR R0, [R2]       ; Store the final sum to memory\n",
    "        NOP\n",
    "HERE    B HERE\n",
    "\n",
    "        AREA data1, DATA, READWRITE\n",
    "sum     DCD 0x0            ; Reserve space for the sum (initialized to 0)\n",
    "        END"
   ]
  },
  {
   "cell_type": "markdown",
   "id": "31498fc6",
   "metadata": {},
   "source": [
    "OUTPUT:\n",
    "R0 = 0x00000037"
   ]
  },
  {
   "cell_type": "markdown",
   "id": "6fd38ced",
   "metadata": {},
   "source": [
    "#### 6. Develop an ALP to find the largest/smallest number in a given array of 32-bit numbers"
   ]
  },
  {
   "cell_type": "code",
   "execution_count": null,
   "id": "13a08cb3",
   "metadata": {
    "vscode": {
     "languageId": "plaintext"
    }
   },
   "outputs": [],
   "source": [
    "        AREA Mydata, DATA, READONLY\n",
    "        EXPORT __Vectors\n",
    "__Vectors\n",
    "        DCD 0x20000000              ; Initial Stack Pointer\n",
    "        DCD Reset_Handler           ; Reset Vector\n",
    "\n",
    "        AREA mycode, CODE, READONLY\n",
    "        EXPORT Reset_Handler\n",
    "ENTRY\n",
    "Reset_Handler\n",
    "        LDR R0, =array              ; R0 = address of array\n",
    "        LDR R1, [R0]                ; R1 = initial largest\n",
    "        LDR R2, [R0]                ; R2 = initial smallest\n",
    "        MOV R3, #6                  ; R3 = loop counter (6 elements)\n",
    "\n",
    "Loop\n",
    "        LDR R4, [R0], #4            ; Load current element, increment pointer\n",
    "        CMP R4, R1\n",
    "        BGT largest                 ; If current > max, update largest\n",
    "        CMP R4, R2\n",
    "        BLT smallest                ; If current < min, update smallest\n",
    "Loop2\n",
    "        SUBS R3, R3, #1             ; Decrement counter\n",
    "        CMP R3, #0\n",
    "        BNE Loop\n",
    "        B exit\n",
    "\n",
    "largest\n",
    "        MOV R1, R4                  ; Update max\n",
    "        B Loop2\n",
    "\n",
    "smallest\n",
    "        MOV R2, R4                  ; Update min\n",
    "        B Loop2\n",
    "\n",
    "exit\n",
    "        LDR R5, =large              ; Store max to memory\n",
    "        STR R1, [R5]\n",
    "        LDR R6, =small              ; Store min to memory\n",
    "        STR R2, [R6]\n",
    "        NOP\n",
    "\n",
    "here    B here                      ; Infinite loop\n",
    "\n",
    "        AREA Mydata1, DATA, READONLY\n",
    "array   DCD 2, 3, 4, 5, 6, 7\n",
    "\n",
    "        AREA Mydata2, DATA, READWRITE\n",
    "large   DCD 0\n",
    "small   DCD 0x7FFFFFFF\n",
    "\n",
    "        END\n"
   ]
  },
  {
   "cell_type": "markdown",
   "id": "df741f96",
   "metadata": {},
   "source": [
    "#### 7. Develop an ALP to count the number of zero’s and one’s in the two consecutive numbers"
   ]
  },
  {
   "cell_type": "code",
   "execution_count": null,
   "id": "85ebf1ce",
   "metadata": {
    "vscode": {
     "languageId": "plaintext"
    }
   },
   "outputs": [],
   "source": [
    "        AREA mydata, DATA, READONLY\n",
    "        EXPORT __Vectors\n",
    "__Vectors\n",
    "        DCD 0x20000000             ; Initial Stack Pointer (top of RAM)\n",
    "        DCD Reset_Handler          ; Reset vector: address of entry routine\n",
    "\n",
    "        AREA mycode, CODE, READONLY\n",
    "        EXPORT Reset_Handler\n",
    "ENTRY                           ; Entry point declaration for the linker\n",
    "Reset_Handler\n",
    "        MOV   R2, #0              ; R2 := 0  ? zero-bit count\n",
    "        MOV   R3, #0              ; R3 := 0  ? one-bit count\n",
    "        MOV   R7, #2              ; R7 := 2  ? number of 32-bit words to process\n",
    "        LDR   R6, =VALUE          ; R6 := address of VALUE array\n",
    "\n",
    "L       LDR   R1, [R6], #4        ; R1 := *R6; then R6 += 4 (post-increment pointer)\n",
    "        MOV   R0, R1              ; Copy current word into R0 for bit-rotations\n",
    "        MOV   R8, #32             ; Initialize bit counter (32 bits per word)\n",
    "\n",
    "L0      MOVS  R0, R0, ROR #1      ; Rotate R0 right by 1 ? old bit0 goes into Carry, flags set\n",
    "        BCC   ZEROS               ; If Carry=0 then rotated-out bit was 0 ? branch to ZEROS\n",
    "        ADD   R3, R3, #1          ; else Carry=1 ? increment one-bit count (R3)\n",
    "        B     NEXT_BIT            ; skip zero-count and continue\n",
    "\n",
    "ZEROS   ADD   R2, R2, #1          ; Increment zero-bit count (R2)\n",
    "\n",
    "NEXT_BIT\n",
    "        SUBS  R8, R8, #1          ; R8 := R8 - 1 and update flags (Z=1 when R8=0)\n",
    "        BNE   L0                  ; If more bits remain (Z==0), loop back to L0\n",
    "\n",
    "        SUB   R7, R7, #1          ; Decrement word counter (R7)\n",
    "        CMP   R7, #0              ; Compare R7 to 0\n",
    "        BNE   L                   ; If not zero, process next word\n",
    "\n",
    "HERE    B     HERE                ; Infinite loop here when done\n",
    "\n",
    "        AREA data1, DATA, READONLY\n",
    "VALUE   DCD   0x11111111, 0xAA55AA55  ; Two sample 32-bit values to test\n",
    "        END                       ; Mark end of file for assembler\n"
   ]
  },
  {
   "cell_type": "markdown",
   "id": "c0f597d0",
   "metadata": {},
   "source": [
    "Output:\\\n",
    "Number of 0’s = 0x28\\\n",
    "Number of 1’s = 0x18"
   ]
  },
  {
   "cell_type": "markdown",
   "id": "c8780bc8",
   "metadata": {},
   "source": [
    "#### 11. Simulate a program in C (ARM Microcontroller) for bubble sort"
   ]
  },
  {
   "cell_type": "code",
   "execution_count": null,
   "id": "aeca2ad9",
   "metadata": {
    "vscode": {
     "languageId": "c"
    }
   },
   "outputs": [],
   "source": [
    "// Program to perform bubble sort on ARM Microcontroller\n",
    "#include <stdio.h>\n",
    "\n",
    "int main() {\n",
    "    int arr[5] = {5, 2, 9, 1, 6};\n",
    "    int n = 5;\n",
    "    int i, j, temp;\n",
    "    printf(\"Original array: \");\n",
    "    for(i = 0; i < n; i++)\n",
    "        printf(\"%d \", arr[i]);\n",
    "    printf(\"\\n\");\n",
    "    for(i = 0; i < n-1; i++) {\n",
    "        for(j = 0; j < n-i-1; j++) {\n",
    "            if(arr[j] > arr[j+1]) {\n",
    "                temp = arr[j];\n",
    "                arr[j] = arr[j+1];\n",
    "                arr[j+1] = temp;\n",
    "            }\n",
    "        }\n",
    "    }\n",
    "    printf(\"Sorted array: \");\n",
    "    for(i = 0; i < n; i++)\n",
    "        printf(\"%d \", arr[i]);\n",
    "    printf(\"\\n\");\n",
    "    return 0;\n",
    "}"
   ]
  },
  {
   "cell_type": "markdown",
   "id": "ccac8c98",
   "metadata": {},
   "source": [
    "OUTPUT:\n",
    "Original array: 5 2 9 1 6 \n",
    "Sorted array: 1 2 5 6 9"
   ]
  },
  {
   "cell_type": "markdown",
   "id": "7c77e384",
   "metadata": {},
   "source": [
    "#### 12. Simulate a program in C (ARM Microcontroller) for factorial of a number"
   ]
  },
  {
   "cell_type": "code",
   "execution_count": null,
   "id": "e99c1b9f",
   "metadata": {
    "vscode": {
     "languageId": "c"
    }
   },
   "outputs": [],
   "source": [
    "// Program to find factorial of a number on ARM Microcontroller\n",
    "#include <stdio.h>\n",
    "\n",
    "int main() {\n",
    "    int n = 5, i;\n",
    "    unsigned long long fact = 1;\n",
    "    for(i = 1; i <= n; i++) {\n",
    "        fact *= i;\n",
    "    }\n",
    "    printf(\"Factorial of %d = %llu\\n\", n, fact);\n",
    "    return 0;\n",
    "}"
   ]
  },
  {
   "cell_type": "markdown",
   "id": "07e00e3b",
   "metadata": {},
   "source": [
    "OUTPUT:\n",
    "Factorial of 5 = 120"
   ]
  }
 ],
 "metadata": {
  "language_info": {
   "name": "python"
  }
 },
 "nbformat": 4,
 "nbformat_minor": 5
}
